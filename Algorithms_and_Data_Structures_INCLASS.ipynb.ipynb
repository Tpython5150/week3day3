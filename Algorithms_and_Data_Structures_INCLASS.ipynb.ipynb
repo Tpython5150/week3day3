{
 "cells": [
  {
   "cell_type": "markdown",
   "metadata": {},
   "source": [
    "# Algorithms, Binary Search & Linked Lists"
   ]
  },
  {
   "cell_type": "markdown",
   "metadata": {},
   "source": [
    "## Tasks Today:\n",
    "### Algorithms\n",
    "1) <b>Two Pointers</b> <br>\n",
    "2) <b>Sorting Algorithms</b> <br>\n",
    "3) <b>Merge Sort</b> <br>\n",
    " &nbsp;&nbsp;&nbsp;&nbsp; a) Video on Algorithms <br>\n",
    " &nbsp;&nbsp;&nbsp;&nbsp; b) How it Works <br>\n",
    "\n",
    "\n",
    "### Data Structures:\n",
    "4) Arrays\n",
    "5) Stacks\n",
    "6) Queues\n",
    "7) Linked Lists\n",
    "    - Singly Linked Lists\n",
    "    - Traversing A Linked List\n",
    "    - Finding a node in a linked list\n",
    "    - Adding to a linked list\n",
    "8) Binary Search Tree\n",
    "9) <b>Exercises</b> <br>\n",
    " &nbsp;&nbsp;&nbsp;&nbsp; a) Exercise #1 - Reverse a List in Place Using an In-Place Algorithm <br>\n",
    " &nbsp;&nbsp;&nbsp;&nbsp; b) Exercise #2 - Find Distinct Words <br>\n",
    " &nbsp;&nbsp;&nbsp;&nbsp; c) Exercise #3 - Write a program to implement a Linear Search Algorithm. <br>"
   ]
  },
  {
   "cell_type": "markdown",
   "metadata": {},
   "source": [
    "## In-Place Algorithms"
   ]
  },
  {
   "cell_type": "markdown",
   "metadata": {},
   "source": [
    "#### Syntax"
   ]
  },
  {
   "cell_type": "code",
   "execution_count": 7,
   "metadata": {},
   "outputs": [
    {
     "name": "stdout",
     "output_type": "stream",
     "text": [
      "[9, 1, 5, 3, 2]\n"
     ]
    }
   ],
   "source": [
    "def swap(nums, index1, index2):\n",
    "    nums[index1], nums[index2] = nums[index2], nums[index1]\n",
    "    \n",
    "my_list =[2, 1, 5, 3 ,9]\n",
    "swap(my_list, 0, 4)\n",
    "print(my_list)"
   ]
  },
  {
   "cell_type": "markdown",
   "metadata": {},
   "source": [
    "#### Out of Place Algorithm"
   ]
  },
  {
   "cell_type": "code",
   "execution_count": 12,
   "metadata": {},
   "outputs": [
    {
     "name": "stdout",
     "output_type": "stream",
     "text": [
      "[2, 1, 5, 3, 9]\n",
      "[9, 1, 5, 3, 2]\n"
     ]
    }
   ],
   "source": [
    "def swap(nums, index1, index2):\n",
    "    copy = nums [:]\n",
    "    copy[index1], copy[index2] = copy[index2], copy[index1]\n",
    "    return copy\n",
    "    \n",
    "my_list =[2, 1, 5, 3 ,9]\n",
    "res = swap(my_list, 0, 4)\n",
    "print(my_list)\n",
    "print(res)\n"
   ]
  },
  {
   "cell_type": "markdown",
   "metadata": {},
   "source": [
    "#### In-Class Exercise #1 <br>\n",
    "<p>Write a function that takes in four arguments (list, index1, index2, index3), and swaps those three positions in the list passed in.</p>"
   ]
  },
  {
   "cell_type": "code",
   "execution_count": null,
   "metadata": {},
   "outputs": [],
   "source": [
    "l_1 = [10, 4, 3, 8, 4, 2, 6]\n",
    "\n"
   ]
  },
  {
   "cell_type": "markdown",
   "metadata": {},
   "source": [
    "## Two Pointers"
   ]
  },
  {
   "cell_type": "markdown",
   "metadata": {},
   "source": [
    "#### Syntax"
   ]
  },
  {
   "cell_type": "code",
   "execution_count": 21,
   "metadata": {},
   "outputs": [
    {
     "name": "stdout",
     "output_type": "stream",
     "text": [
      "[11, 9, 5, 5, 3, 2, 12]\n",
      "[12, 2, 3, 5, 5, 9, 11]\n"
     ]
    }
   ],
   "source": [
    "my_list = [11,9,5,5,3,2, 12]\n",
    "def swap(nums, index1, index2):\n",
    "    nums[index1], nums[index2] = nums[index2], nums[index1]\n",
    "    \n",
    "def two_pointer_reverse(nums):\n",
    "    left = 0\n",
    "    right = len(nums)-1\n",
    "    while left < right:\n",
    "        swap(nums, left, right)\n",
    "        left  += 1\n",
    "        right -= 1\n",
    "        \n",
    "        \n",
    "print(my_list)        \n",
    "two_pointer_reverse(my_list)  \n",
    "print(my_list)\n",
    "    \n",
    "    #while l<r"
   ]
  },
  {
   "cell_type": "code",
   "execution_count": 29,
   "metadata": {},
   "outputs": [
    {
     "data": {
      "text/plain": [
       "'triy_mccormock'"
      ]
     },
     "execution_count": 29,
     "metadata": {},
     "output_type": "execute_result"
    }
   ],
   "source": [
    "def reverse_vowles_two_pointer(string):\n",
    "    left = 0\n",
    "    right = len(string) - 1\n",
    "    \n",
    "    vowels = {'a', 'e','i', 'o', 'u'}\n",
    "    \n",
    "    string = [letter for letter in string]\n",
    "    \n",
    "    \n",
    "    \n",
    "    while left < right:\n",
    "        if string[left] not in vowels:\n",
    "            left += 1\n",
    "        if string[right] not in vowels:\n",
    "            right -= 1\n",
    "        if string[left] in vowels and string[right] in vowels:\n",
    "            swap(string, left, right)\n",
    "            left += 1\n",
    "            right -= 1\n",
    "    \n",
    "    return ''.join(string)\n",
    "reverse_vowles_two_pointer('troy_mccormick')"
   ]
  },
  {
   "cell_type": "markdown",
   "metadata": {},
   "source": [
    "#### Video of Algorithms <br>\n",
    "<p>Watch the video about algorithms.</p>\n",
    "\n",
    "https://www.youtube.com/watch?v=Q9HjeFD62Uk\n",
    "\n",
    "https://www.youtube.com/watch?v=kPRA0W1kECg\n",
    "\n",
    "https://www.youtube.com/watch?v=ZZuD6iUe3Pc"
   ]
  },
  {
   "cell_type": "markdown",
   "metadata": {},
   "source": [
    "# Sorting Algorithms"
   ]
  },
  {
   "cell_type": "markdown",
   "metadata": {},
   "source": [
    "#### Bubble Sort\n",
    "\n",
    "Worst Case: O(n^2) Time - O(1) Space"
   ]
  },
  {
   "cell_type": "code",
   "execution_count": 36,
   "metadata": {},
   "outputs": [
    {
     "name": "stdout",
     "output_type": "stream",
     "text": [
      "[60, 70, 80, 90, 100]\n"
     ]
    }
   ],
   "source": [
    "def swap(nums, index1, index2):\n",
    "    nums[index1], nums[index2] = nums[index2], nums[index1]\n",
    "    \n",
    "def bubble_sort(nums):\n",
    "    for count in range (len(nums)):\n",
    "        for index in range(len(nums) - 1 - count):\n",
    "            me = nums[index]\n",
    "            guy_in_front = nums[index + 1]\n",
    "            if me > guy_in_front:\n",
    "                swap(nums, index, index + 1)\n",
    "            \n",
    "my_list = [100, 90, 80, 70, 60]\n",
    "bubble_sort(my_list)\n",
    "print(my_list)"
   ]
  },
  {
   "cell_type": "markdown",
   "metadata": {},
   "source": [
    "##### Insertion Sort\n",
    "\n",
    "Worst Case: O(n^2) time - O(1)space"
   ]
  },
  {
   "cell_type": "code",
   "execution_count": 48,
   "metadata": {},
   "outputs": [
    {
     "name": "stdout",
     "output_type": "stream",
     "text": [
      "[1, 1, 1, 2, 2, 4, 4, 12, 17, 23, 34, 34]\n"
     ]
    }
   ],
   "source": [
    "def swap(nums, index1, index2):\n",
    "    nums[index1], nums[index2] = nums[index2], nums[index1]\n",
    "    \n",
    "    \n",
    "def insertion_sort(nums):\n",
    "    for overall in range(1, len(nums)):\n",
    "        individual = overall\n",
    "        while individual > 0 and nums[individual] < nums[individual -1]:\n",
    "            swap(nums, individual, individual-1)\n",
    "            individual -= 1\n",
    "my_list = [100, 90, 80, 70, 60]\n",
    "my_list2 = [1,1,1,2,2,4,4,23,34,12,34,17]\n",
    "\n",
    "\n",
    "insertion_sort(my_list2)\n",
    "print(my_list2)"
   ]
  },
  {
   "cell_type": "markdown",
   "metadata": {},
   "source": [
    "## Merge Sort"
   ]
  },
  {
   "cell_type": "markdown",
   "metadata": {},
   "source": [
    "#### How it Works"
   ]
  },
  {
   "cell_type": "code",
   "execution_count": 68,
   "metadata": {},
   "outputs": [
    {
     "name": "stdout",
     "output_type": "stream",
     "text": [
      "splitting [1, 22, 6453, 33, 22, 44, 11, 53, 44, 4, 4, 3, 2, 1]\n",
      "splitting [1, 22, 6453, 33, 22, 44, 11]\n",
      "splitting [1, 22, 6453]\n",
      "splitting [1]\n",
      "merging [1]\n",
      "splitting [22, 6453]\n",
      "splitting [22]\n",
      "merging [22]\n",
      "splitting [6453]\n",
      "merging [6453]\n",
      "merging [22, 6453]\n",
      "merging [1, 22, 6453]\n",
      "splitting [33, 22, 44, 11]\n",
      "splitting [33, 22]\n",
      "splitting [33]\n",
      "merging [33]\n",
      "splitting [22]\n",
      "merging [22]\n",
      "merging [33, 22]\n",
      "splitting [44, 11]\n",
      "splitting [44]\n",
      "merging [44]\n",
      "splitting [11]\n",
      "merging [11]\n",
      "merging [44, 11]\n",
      "merging [33, 22, 44, 11]\n",
      "merging [1, 22, 6453, 33, 22, 44, 11]\n",
      "splitting [53, 44, 4, 4, 3, 2, 1]\n",
      "splitting [53, 44, 4]\n",
      "splitting [53]\n",
      "merging [53]\n",
      "splitting [44, 4]\n",
      "splitting [44]\n",
      "merging [44]\n",
      "splitting [4]\n",
      "merging [4]\n",
      "merging [44, 4]\n",
      "merging [53, 44, 4]\n",
      "splitting [4, 3, 2, 1]\n",
      "splitting [4, 3]\n",
      "splitting [4]\n",
      "merging [4]\n",
      "splitting [3]\n",
      "merging [3]\n",
      "merging [4, 3]\n",
      "splitting [2, 1]\n",
      "splitting [2]\n",
      "merging [2]\n",
      "splitting [1]\n",
      "merging [1]\n",
      "merging [2, 1]\n",
      "merging [4, 3, 2, 1]\n",
      "merging [53, 44, 4, 4, 3, 2, 1]\n",
      "merging [1, 22, 6453, 33, 22, 44, 11, 53, 44, 4, 4, 3, 2, 1]\n",
      "[1, 22, 6453, 33, 22, 44, 11, 53, 44, 4, 4, 3, 2, 1]\n"
     ]
    }
   ],
   "source": [
    "def merge_sort(nums):\n",
    "    print('splitting', nums)\n",
    "    if len(nums) > 1:\n",
    "        mid = len(nums) // 2\n",
    "        lefthalf = nums[:mid]\n",
    "        righthalf = nums[mid:]\n",
    "        \n",
    "        \n",
    "        \n",
    "        merge_sort(lefthalf)\n",
    "        merge_sort(righthalf)\n",
    "        \n",
    "        i = 0 #left side\n",
    "        j = 0 #right side\n",
    "        k = 0 # main list\n",
    "        \n",
    "        while i < len(lefthalf) and j > len(righthalf):\n",
    "            if lefthalf[i] < righthalf[j]:\n",
    "                nums[k] = lefthalf[i]\n",
    "                i = i + 1\n",
    "            else:\n",
    "                nums[k] = righthalf[j]\n",
    "                j = j + 1\n",
    "            k = k + 1\n",
    "        \n",
    "        while i < len(lefthalf): #if left is not dont yet\n",
    "            nums[k] = lefthalf[i]\n",
    "            i = i + 1\n",
    "            k = k + 1\n",
    "        while j < len(righthalf): # if right is not done yet\n",
    "            nums[k] = righthalf[j]\n",
    "            j = j + 1\n",
    "            k = k + 1\n",
    "    print('merging', nums)\n",
    "nums = [1, 22, 6453, 33, 22, 44, 11, 53, 44, 4, 4, 3, 2, 1]\n",
    "merge_sort(nums) \n",
    "print(nums)"
   ]
  },
  {
   "cell_type": "markdown",
   "metadata": {},
   "source": [
    "# Binary Search\n",
    "\n",
    "The Binary Search algorithm works by finding the number in the middle of a given array and comparing it to the target. Given that the array is sorted\n",
    "\n",
    "* The worst case run time for this algorithm is `O(log(n))`"
   ]
  },
  {
   "cell_type": "code",
   "execution_count": 69,
   "metadata": {},
   "outputs": [],
   "source": [
    "# less == left\n",
    "#greater == right\n",
    "#list of numbers MUST be sorted\n",
    "\n",
    "def binary_search(nums, target):\n",
    "    left = 0\n",
    "    right = len(nums) - 1\n",
    "    while left <= right:\n",
    "        middle = (left + right) // 2\n",
    "        guess = nums[middle]\n",
    "        if target == guess:\n",
    "            return f\"Found it! What you are looking for is a index {middle}\""
   ]
  },
  {
   "cell_type": "markdown",
   "metadata": {},
   "source": [
    "## Arrays"
   ]
  },
  {
   "cell_type": "markdown",
   "metadata": {},
   "source": [
    "In python we benefit from the dynamic array which means the block of memory will expand as needed for the given input to the array. In traditional arrays (depending on the type of operating system) we will usually store our inputs in 4 or 8 consecutive blocks of memory."
   ]
  },
  {
   "cell_type": "markdown",
   "metadata": {},
   "source": [
    "## Which in python looks like this:"
   ]
  },
  {
   "cell_type": "code",
   "execution_count": null,
   "metadata": {},
   "outputs": [],
   "source": []
  },
  {
   "cell_type": "markdown",
   "metadata": {},
   "source": [
    "### Let's take a look at some of the time and space analysis of arrays"
   ]
  },
  {
   "cell_type": "code",
   "execution_count": null,
   "metadata": {},
   "outputs": [],
   "source": [
    "# index an array (list)\n",
    "#constant time and constant space - O(1)\n",
    "\n",
    "# searching through a list\n",
    "# Linear Time O(n) and Constant Space O(1)\n",
    "\n",
    "# copying a list\n",
    "# linear time AND linear space\n",
    "\n",
    "\n",
    "# seeting an index in a list\n",
    "# constant time and constant space O(1)\n"
   ]
  },
  {
   "cell_type": "markdown",
   "metadata": {},
   "source": [
    "## Stacks and Queues\n",
    "\n",
    "** Stacks ** as the name suggests is a data structure that allows for data to follow the Last In First Out priciple(LIFO). Think of a stack of pancakes for example. To get the first pancake you would  start with the top and go down.\n",
    "\n",
    "##### Searching through a stack will be Linear Time O(n) - Constant Space O(1)\n",
    "##### Selecting the last item will be done in Constant Time O(1) - Constant Space O(1)\n",
    "##### Adding to the stack should take Constant Time O(1) - Constant Space O(1)\n",
    "\n",
    "** Queues ** are similar but in this case follow the First In First Out principle(FIFO). Think of this as a line in a black friday sale. The first person camped out for the big screen tv is the first to get it.\n",
    "\n",
    "##### Searching through a queue will be Linear Time O(n) - Constant Space O(1)\n",
    "##### Selecting the first item will be done in Constant Time O(1) - Constant Space O(1)\n",
    "##### Adding to the queue should take Constant Time O(1) - Constant Space O(1)"
   ]
  },
  {
   "cell_type": "code",
   "execution_count": null,
   "metadata": {},
   "outputs": [],
   "source": []
  },
  {
   "cell_type": "markdown",
   "metadata": {},
   "source": [
    "## Linked List (Data Structure)\n",
    "\n",
    "A linked list is created by using the node class. We create a Node object and create another class to use this node object. We pass the appropriate values thorugh the node object to point the to the next data elements.\n",
    "\n",
    "There are some advantages and disadvantages with this data structure. **Advantages** Linked Lists can save memory because they can be flexibile with memory management which saves memory. **Disadvantages** Finding or adding to the list requires traversing the entire list."
   ]
  },
  {
   "cell_type": "code",
   "execution_count": null,
   "metadata": {},
   "outputs": [],
   "source": []
  },
  {
   "cell_type": "code",
   "execution_count": null,
   "metadata": {},
   "outputs": [],
   "source": []
  },
  {
   "cell_type": "markdown",
   "metadata": {},
   "source": [
    "## Binary Search Tree"
   ]
  },
  {
   "cell_type": "code",
   "execution_count": null,
   "metadata": {},
   "outputs": [],
   "source": [
    "class BST():\n",
    "    def __init__(self,value):\n",
    "        self.value = value\n",
    "        self.right = none\n",
    "        self.left = none\n",
    "        \n",
    "    def insert(self):\n",
    "        if value < self.val:\n",
    "            if self.left is None:\n",
    "                self.left = BST(value)\n",
    "                \n",
    "            else:\n",
    "                # reask the question on the left side\n",
    "                self.left.insert(value)\n",
    "                self.right = BEST(value)\n",
    "                \n",
    "    def contains(self):\n",
    "        if value < self.valself.val\n",
    "        else\n",
    "            if self.left is None:\n",
    "                return False\n",
    "            else:\n",
    "                return self.left.contain(value)\n",
    "        \n",
    "    def get_min(self):\n",
    "        if self.left is None:\n",
    "            return self.val\n",
    "        else:\n",
    "            return self.left.get_min()\n",
    "        \n",
    "    def get_max(self):\n",
    "        if self.right is None:\n",
    "            return self.val\n",
    "        else: \n",
    "            return self.right.get_max()\n",
    "            \n",
    "    def remove(self):\n",
    "        if value < self.val:\n",
    "            if self.left in not None:\n",
    "                self.left.remove(value, self)\n",
    "        elif value > self.val:\n",
    "            if self.rignt is not None:\n",
    "                self.right.remove(value, self)\n",
    "        else:\n",
    "            if self.left is not None and self.right is not NOne:\n",
    "                self.val = self.right.get_max()\n",
    "                self.left.remove(self.val, self)\n",
    "        elif parent is None:\n",
    "            if self.left is not None:\n",
    "                self.val = self.left.val\n",
    "                self.left = self.left.left\n",
    "                self.right = self.left.right\n",
    "            elif self.right is not None:\n",
    "                "
   ]
  },
  {
   "cell_type": "markdown",
   "metadata": {},
   "source": [
    "# Exercises"
   ]
  },
  {
   "cell_type": "markdown",
   "metadata": {},
   "source": [
    "### Exercise #1 <br>\n",
    "<p>Reverse the list below in-place using an in-place algorithm.<br>For extra credit: Reverse the strings at the same time.</p>"
   ]
  },
  {
   "cell_type": "code",
   "execution_count": 73,
   "metadata": {},
   "outputs": [
    {
     "name": "stdout",
     "output_type": "stream",
     "text": [
      "['.', 'sentence', 'a', 'is', 'this']\n"
     ]
    }
   ],
   "source": [
    "words = ['this' , 'is', 'a', 'sentence', '.']\n",
    "#words = words[::-1]\n",
    "#print(words)\n",
    "words.reverse()\n",
    "print(words)    "
   ]
  },
  {
   "cell_type": "markdown",
   "metadata": {},
   "source": [
    "### Exercise #2 <br>\n",
    "<p>Create a function that counts how many distinct words are in the string below, then outputs a dictionary with the words as the key and the value as the amount of times that word appears in the string.<br>Should output:<br>{'a': 5,<br>\n",
    " 'abstract': 1,<br>\n",
    " 'an': 3,<br>\n",
    "\n",
    "    'array': 2, ... etc...</p>"
   ]
  },
  {
   "cell_type": "code",
   "execution_count": 77,
   "metadata": {},
   "outputs": [
    {
     "data": {
      "text/plain": [
       "{'In': 1,\n",
       " 'computing,': 1,\n",
       " 'a': 4,\n",
       " 'hash': 4,\n",
       " 'table': 2,\n",
       " 'map': 2,\n",
       " 'is': 1,\n",
       " 'data': 2,\n",
       " 'structure': 2,\n",
       " 'which': 2,\n",
       " 'implements': 1,\n",
       " 'an': 3,\n",
       " 'associative': 1,\n",
       " 'array': 2,\n",
       " 'abstract': 1,\n",
       " 'type,': 1,\n",
       " 'that': 1,\n",
       " 'can': 2,\n",
       " 'keys': 1,\n",
       " 'to': 2,\n",
       " 'values.': 1,\n",
       " 'A': 1,\n",
       " 'uses': 1,\n",
       " 'function': 1,\n",
       " 'compute': 1,\n",
       " 'index': 1,\n",
       " 'into': 1,\n",
       " 'of': 1,\n",
       " 'buckets': 1,\n",
       " 'or': 1,\n",
       " 'slots': 1,\n",
       " 'from': 1,\n",
       " 'the': 1,\n",
       " 'desired': 1,\n",
       " 'value': 1,\n",
       " 'be': 1,\n",
       " 'found': 1}"
      ]
     },
     "execution_count": 77,
     "metadata": {},
     "output_type": "execute_result"
    }
   ],
   "source": [
    "def count_words(a_text):\n",
    "    x=a_text.split()\n",
    "    my_dict={}\n",
    "    for word in x:\n",
    "        if word in my_dict:\n",
    "            my_dict[word] += 1\n",
    "        else:\n",
    "            my_dict[word] = 1 \n",
    "    return my_dict\n",
    "a_text = 'In computing, a hash table hash map is a data structure which implements an associative array abstract data type, a structure that can map keys to values. A hash table uses a hash function to compute an index into an array of buckets or slots from which the desired value can be found'\n",
    "\n",
    "count_words(a_text)"
   ]
  },
  {
   "cell_type": "code",
   "execution_count": 84,
   "metadata": {},
   "outputs": [
    {
     "ename": "SyntaxError",
     "evalue": "invalid syntax (842075010.py, line 4)",
     "output_type": "error",
     "traceback": [
      "\u001b[1;36m  Cell \u001b[1;32mIn[84], line 4\u001b[1;36m\u001b[0m\n\u001b[1;33m    Write a program to implement a Linear Search Algorithm. Also in a comment, write the Time Complexity of the following algorithm.\u001b[0m\n\u001b[1;37m          ^\u001b[0m\n\u001b[1;31mSyntaxError\u001b[0m\u001b[1;31m:\u001b[0m invalid syntax\n"
     ]
    }
   ],
   "source": [
    "## Exercise #3\n",
    "nums_list = [10, 23, 45,70,11,15]\n",
    "target = 70\n",
    "Write a program to implement a Linear Search Algorithm. Also in a comment, write the Time Complexity of the following algorithm.\n",
    "\n",
    "#### Hint: Linear Searching will require searching a list for a given number. \n",
    "nums_list = [10, 23,45,70,11,15]\n",
    "target = 70\n",
    "nums_list.sort()\n",
    "print(nums_list)\n",
    "    "
   ]
  },
  {
   "cell_type": "code",
   "execution_count": 85,
   "metadata": {},
   "outputs": [
    {
     "name": "stdout",
     "output_type": "stream",
     "text": [
      "[10, 11, 15, 23, 45, 70]\n"
     ]
    }
   ],
   "source": [
    "nums_list = [10, 23,45,70,11,15]\n",
    "target = 70\n",
    "nums_list.sort()\n",
    "print(nums_list)"
   ]
  },
  {
   "cell_type": "code",
   "execution_count": null,
   "metadata": {},
   "outputs": [
    {
     "ename": "",
     "evalue": "",
     "output_type": "error",
     "traceback": [
      "\u001b[1;31mFailed to start the Kernel. \n",
      "\u001b[1;31mUnable to start Kernel 'Python 3.11.3' due to a timeout waiting for the ports to get used. \n",
      "\u001b[1;31mView Jupyter <a href='command:jupyter.viewOutput'>log</a> for further details."
     ]
    }
   ],
   "source": [
    "def linear_search(num_list, target):\n",
    "    for num in num_list: \n",
    "        if num == target:\n",
    "            return f'Found it.'\n",
    "    return f'Not here.line'\n",
    "\n",
    "#O(n)\n",
    "\n",
    "\n",
    "linear_search([1,2,3,4], target)\n",
    "        \n",
    "\n",
    "    \n"
   ]
  }
 ],
 "metadata": {
  "kernelspec": {
   "display_name": "Python 3 (ipykernel)",
   "language": "python",
   "name": "python3"
  },
  "language_info": {
   "codemirror_mode": {
    "name": "ipython",
    "version": 3
   },
   "file_extension": ".py",
   "mimetype": "text/x-python",
   "name": "python",
   "nbconvert_exporter": "python",
   "pygments_lexer": "ipython3",
   "version": "3.10.9"
  }
 },
 "nbformat": 4,
 "nbformat_minor": 2
}
