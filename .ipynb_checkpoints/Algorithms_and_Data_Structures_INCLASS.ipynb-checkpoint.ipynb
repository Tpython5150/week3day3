{
 "cells": [
  {
   "cell_type": "markdown",
   "metadata": {},
   "source": [
    "# Algorithms, Binary Search & Linked Lists"
   ]
  },
  {
   "cell_type": "markdown",
   "metadata": {},
   "source": [
    "## Tasks Today:\n",
    "### Algorithms\n",
    "1) <b>Two Pointers</b> <br>\n",
    "2) <b>Sorting Algorithms</b> <br>\n",
    "3) <b>Merge Sort</b> <br>\n",
    " &nbsp;&nbsp;&nbsp;&nbsp; a) Video on Algorithms <br>\n",
    " &nbsp;&nbsp;&nbsp;&nbsp; b) How it Works <br>\n",
    "\n",
    "\n",
    "### Data Structures:\n",
    "4) Arrays\n",
    "5) Stacks\n",
    "6) Queues\n",
    "7) Linked Lists\n",
    "    - Singly Linked Lists\n",
    "    - Traversing A Linked List\n",
    "    - Finding a node in a linked list\n",
    "    - Adding to a linked list\n",
    "8) Binary Search Tree\n",
    "9) <b>Exercises</b> <br>\n",
    " &nbsp;&nbsp;&nbsp;&nbsp; a) Exercise #1 - Reverse a List in Place Using an In-Place Algorithm <br>\n",
    " &nbsp;&nbsp;&nbsp;&nbsp; b) Exercise #2 - Find Distinct Words <br>\n",
    " &nbsp;&nbsp;&nbsp;&nbsp; c) Exercise #3 - Write a program to implement a Linear Search Algorithm. <br>"
   ]
  },
  {
   "cell_type": "markdown",
   "metadata": {},
   "source": [
    "## In-Place Algorithms"
   ]
  },
  {
   "cell_type": "markdown",
   "metadata": {},
   "source": [
    "#### Syntax"
   ]
  },
  {
   "cell_type": "code",
   "execution_count": 7,
   "metadata": {},
   "outputs": [
    {
     "name": "stdout",
     "output_type": "stream",
     "text": [
      "[9, 1, 5, 3, 2]\n"
     ]
    }
   ],
   "source": [
    "def swap(nums, index1, index2):\n",
    "    nums[index1], nums[index2] = nums[index2], nums[index1]\n",
    "    \n",
    "my_list =[2, 1, 5, 3 ,9]\n",
    "swap(my_list, 0, 4)\n",
    "print(my_list)"
   ]
  },
  {
   "cell_type": "markdown",
   "metadata": {},
   "source": [
    "#### Out of Place Algorithm"
   ]
  },
  {
   "cell_type": "code",
   "execution_count": 12,
   "metadata": {},
   "outputs": [
    {
     "name": "stdout",
     "output_type": "stream",
     "text": [
      "[2, 1, 5, 3, 9]\n",
      "[9, 1, 5, 3, 2]\n"
     ]
    }
   ],
   "source": [
    "def swap(nums, index1, index2):\n",
    "    copy = nums [:]\n",
    "    copy[index1], copy[index2] = copy[index2], copy[index1]\n",
    "    return copy\n",
    "    \n",
    "my_list =[2, 1, 5, 3 ,9]\n",
    "res = swap(my_list, 0, 4)\n",
    "print(my_list)\n",
    "print(res)\n"
   ]
  },
  {
   "cell_type": "markdown",
   "metadata": {},
   "source": [
    "#### In-Class Exercise #1 <br>\n",
    "<p>Write a function that takes in four arguments (list, index1, index2, index3), and swaps those three positions in the list passed in.</p>"
   ]
  },
  {
   "cell_type": "code",
   "execution_count": null,
   "metadata": {},
   "outputs": [],
   "source": [
    "l_1 = [10, 4, 3, 8, 4, 2, 6]\n",
    "\n"
   ]
  },
  {
   "cell_type": "markdown",
   "metadata": {},
   "source": [
    "## Two Pointers"
   ]
  },
  {
   "cell_type": "markdown",
   "metadata": {},
   "source": [
    "#### Syntax"
   ]
  },
  {
   "cell_type": "code",
   "execution_count": 21,
   "metadata": {},
   "outputs": [
    {
     "name": "stdout",
     "output_type": "stream",
     "text": [
      "[11, 9, 5, 5, 3, 2, 12]\n",
      "[12, 2, 3, 5, 5, 9, 11]\n"
     ]
    }
   ],
   "source": [
    "my_list = [11,9,5,5,3,2, 12]\n",
    "def swap(nums, index1, index2):\n",
    "    nums[index1], nums[index2] = nums[index2], nums[index1]\n",
    "    \n",
    "def two_pointer_reverse(nums):\n",
    "    left = 0\n",
    "    right = len(nums)-1\n",
    "    while left < right:\n",
    "        swap(nums, left, right)\n",
    "        left  += 1\n",
    "        right -= 1\n",
    "        \n",
    "        \n",
    "print(my_list)        \n",
    "two_pointer_reverse(my_list)  \n",
    "print(my_list)\n",
    "    \n",
    "    #while l<r"
   ]
  },
  {
   "cell_type": "code",
   "execution_count": 29,
   "metadata": {},
   "outputs": [
    {
     "data": {
      "text/plain": [
       "'triy_mccormock'"
      ]
     },
     "execution_count": 29,
     "metadata": {},
     "output_type": "execute_result"
    }
   ],
   "source": [
    "def reverse_vowles_two_pointer(string):\n",
    "    left = 0\n",
    "    right = len(string) - 1\n",
    "    \n",
    "    vowels = {'a', 'e','i', 'o', 'u'}\n",
    "    \n",
    "    string = [letter for letter in string]\n",
    "    \n",
    "    \n",
    "    \n",
    "    while left < right:\n",
    "        if string[left] not in vowels:\n",
    "            left += 1\n",
    "        if string[right] not in vowels:\n",
    "            right -= 1\n",
    "        if string[left] in vowels and string[right] in vowels:\n",
    "            swap(string, left, right)\n",
    "            left += 1\n",
    "            right -= 1\n",
    "    \n",
    "    return ''.join(string)\n",
    "reverse_vowles_two_pointer('troy_mccormick')"
   ]
  },
  {
   "cell_type": "markdown",
   "metadata": {},
   "source": [
    "#### Video of Algorithms <br>\n",
    "<p>Watch the video about algorithms.</p>\n",
    "\n",
    "https://www.youtube.com/watch?v=Q9HjeFD62Uk\n",
    "\n",
    "https://www.youtube.com/watch?v=kPRA0W1kECg\n",
    "\n",
    "https://www.youtube.com/watch?v=ZZuD6iUe3Pc"
   ]
  },
  {
   "cell_type": "markdown",
   "metadata": {},
   "source": [
    "# Sorting Algorithms"
   ]
  },
  {
   "cell_type": "markdown",
   "metadata": {},
   "source": [
    "#### Bubble Sort\n",
    "\n",
    "Worst Case: O(n^2) Time - O(1) Space"
   ]
  },
  {
   "cell_type": "code",
   "execution_count": 36,
   "metadata": {},
   "outputs": [
    {
     "name": "stdout",
     "output_type": "stream",
     "text": [
      "[60, 70, 80, 90, 100]\n"
     ]
    }
   ],
   "source": [
    "def swap(nums, index1, index2):\n",
    "    nums[index1], nums[index2] = nums[index2], nums[index1]\n",
    "    \n",
    "def bubble_sort(nums):\n",
    "    for count in range (len(nums)):\n",
    "        for index in range(len(nums) - 1 - count):\n",
    "            me = nums[index]\n",
    "            guy_in_front = nums[index + 1]\n",
    "            if me > guy_in_front:\n",
    "                swap(nums, index, index + 1)\n",
    "            \n",
    "my_list = [100, 90, 80, 70, 60]\n",
    "bubble_sort(my_list)\n",
    "print(my_list)"
   ]
  },
  {
   "cell_type": "markdown",
   "metadata": {},
   "source": [
    "##### Insertion Sort\n",
    "\n",
    "Worst Case: O(n^2) time - O(1)space"
   ]
  },
  {
   "cell_type": "code",
   "execution_count": 48,
   "metadata": {},
   "outputs": [
    {
     "name": "stdout",
     "output_type": "stream",
     "text": [
      "[1, 1, 1, 2, 2, 4, 4, 12, 17, 23, 34, 34]\n"
     ]
    }
   ],
   "source": [
    "def swap(nums, index1, index2):\n",
    "    nums[index1], nums[index2] = nums[index2], nums[index1]\n",
    "    \n",
    "    \n",
    "def insertion_sort(nums):\n",
    "    for overall in range(1, len(nums)):\n",
    "        individual = overall\n",
    "        while individual > 0 and nums[individual] < nums[individual -1]:\n",
    "            swap(nums, individual, individual-1)\n",
    "            individual -= 1\n",
    "my_list = [100, 90, 80, 70, 60]\n",
    "my_list2 = [1,1,1,2,2,4,4,23,34,12,34,17]\n",
    "\n",
    "\n",
    "insertion_sort(my_list2)\n",
    "print(my_list2)"
   ]
  },
  {
   "cell_type": "markdown",
   "metadata": {},
   "source": [
    "## Merge Sort"
   ]
  },
  {
   "cell_type": "markdown",
   "metadata": {},
   "source": [
    "#### How it Works"
   ]
  },
  {
   "cell_type": "code",
   "execution_count": 66,
   "metadata": {},
   "outputs": [
    {
     "name": "stdout",
     "output_type": "stream",
     "text": [
      "splitting [1, 22, 6453, 33, 22, 44, 11, 53, 44, 4, 4, 3, 2, 1]\n",
      "splitting [1, 22, 6453, 33, 22, 44, 11]\n",
      "splitting [1, 22, 6453]\n",
      "splitting [1]\n",
      "merging [1]\n",
      "splitting [22, 6453]\n",
      "splitting [22]\n",
      "merging [22]\n",
      "splitting [6453]\n",
      "merging [6453]\n"
     ]
    },
    {
     "ename": "UnboundLocalError",
     "evalue": "local variable 'j' referenced before assignment",
     "output_type": "error",
     "traceback": [
      "\u001b[1;31m---------------------------------------------------------------------------\u001b[0m",
      "\u001b[1;31mUnboundLocalError\u001b[0m                         Traceback (most recent call last)",
      "Cell \u001b[1;32mIn[66], line 36\u001b[0m\n\u001b[0;32m     34\u001b[0m     \u001b[38;5;28mprint\u001b[39m(\u001b[38;5;124m'\u001b[39m\u001b[38;5;124mmerging\u001b[39m\u001b[38;5;124m'\u001b[39m, nums)\n\u001b[0;32m     35\u001b[0m nums \u001b[38;5;241m=\u001b[39m [\u001b[38;5;241m1\u001b[39m, \u001b[38;5;241m22\u001b[39m, \u001b[38;5;241m6453\u001b[39m, \u001b[38;5;241m33\u001b[39m, \u001b[38;5;241m22\u001b[39m, \u001b[38;5;241m44\u001b[39m, \u001b[38;5;241m11\u001b[39m, \u001b[38;5;241m53\u001b[39m, \u001b[38;5;241m44\u001b[39m, \u001b[38;5;241m4\u001b[39m, \u001b[38;5;241m4\u001b[39m, \u001b[38;5;241m3\u001b[39m, \u001b[38;5;241m2\u001b[39m, \u001b[38;5;241m1\u001b[39m]\n\u001b[1;32m---> 36\u001b[0m \u001b[43mmerge_sort\u001b[49m\u001b[43m(\u001b[49m\u001b[43mnums\u001b[49m\u001b[43m)\u001b[49m \n\u001b[0;32m     37\u001b[0m \u001b[38;5;28mprint\u001b[39m(nums)\n",
      "Cell \u001b[1;32mIn[66], line 10\u001b[0m, in \u001b[0;36mmerge_sort\u001b[1;34m(nums)\u001b[0m\n\u001b[0;32m      5\u001b[0m lefthalf \u001b[38;5;241m=\u001b[39m nums[:mid]\n\u001b[0;32m      6\u001b[0m righthalf \u001b[38;5;241m=\u001b[39m nums[mid:]\n\u001b[1;32m---> 10\u001b[0m \u001b[43mmerge_sort\u001b[49m\u001b[43m(\u001b[49m\u001b[43mlefthalf\u001b[49m\u001b[43m)\u001b[49m\n\u001b[0;32m     11\u001b[0m merge_sort(righthalf)\n\u001b[0;32m     13\u001b[0m i \u001b[38;5;241m=\u001b[39m \u001b[38;5;241m0\u001b[39m \u001b[38;5;66;03m#left side\u001b[39;00m\n",
      "Cell \u001b[1;32mIn[66], line 10\u001b[0m, in \u001b[0;36mmerge_sort\u001b[1;34m(nums)\u001b[0m\n\u001b[0;32m      5\u001b[0m lefthalf \u001b[38;5;241m=\u001b[39m nums[:mid]\n\u001b[0;32m      6\u001b[0m righthalf \u001b[38;5;241m=\u001b[39m nums[mid:]\n\u001b[1;32m---> 10\u001b[0m \u001b[43mmerge_sort\u001b[49m\u001b[43m(\u001b[49m\u001b[43mlefthalf\u001b[49m\u001b[43m)\u001b[49m\n\u001b[0;32m     11\u001b[0m merge_sort(righthalf)\n\u001b[0;32m     13\u001b[0m i \u001b[38;5;241m=\u001b[39m \u001b[38;5;241m0\u001b[39m \u001b[38;5;66;03m#left side\u001b[39;00m\n",
      "Cell \u001b[1;32mIn[66], line 11\u001b[0m, in \u001b[0;36mmerge_sort\u001b[1;34m(nums)\u001b[0m\n\u001b[0;32m      6\u001b[0m righthalf \u001b[38;5;241m=\u001b[39m nums[mid:]\n\u001b[0;32m     10\u001b[0m merge_sort(lefthalf)\n\u001b[1;32m---> 11\u001b[0m \u001b[43mmerge_sort\u001b[49m\u001b[43m(\u001b[49m\u001b[43mrighthalf\u001b[49m\u001b[43m)\u001b[49m\n\u001b[0;32m     13\u001b[0m i \u001b[38;5;241m=\u001b[39m \u001b[38;5;241m0\u001b[39m \u001b[38;5;66;03m#left side\u001b[39;00m\n\u001b[0;32m     14\u001b[0m J \u001b[38;5;241m=\u001b[39m \u001b[38;5;241m0\u001b[39m \u001b[38;5;66;03m# right side\u001b[39;00m\n",
      "Cell \u001b[1;32mIn[66], line 17\u001b[0m, in \u001b[0;36mmerge_sort\u001b[1;34m(nums)\u001b[0m\n\u001b[0;32m     14\u001b[0m J \u001b[38;5;241m=\u001b[39m \u001b[38;5;241m0\u001b[39m \u001b[38;5;66;03m# right side\u001b[39;00m\n\u001b[0;32m     15\u001b[0m k \u001b[38;5;241m=\u001b[39m \u001b[38;5;241m0\u001b[39m \u001b[38;5;66;03m# main list\u001b[39;00m\n\u001b[1;32m---> 17\u001b[0m \u001b[38;5;28;01mwhile\u001b[39;00m i \u001b[38;5;241m<\u001b[39m \u001b[38;5;28mlen\u001b[39m(lefthalf) \u001b[38;5;129;01mand\u001b[39;00m \u001b[43mj\u001b[49m \u001b[38;5;241m>\u001b[39m \u001b[38;5;28mlen\u001b[39m(righthalf):\n\u001b[0;32m     18\u001b[0m     \u001b[38;5;28;01mif\u001b[39;00m lefthalf[i] \u001b[38;5;241m<\u001b[39m righthalf[j]:\n\u001b[0;32m     19\u001b[0m         nums[k] \u001b[38;5;241m=\u001b[39m lefthalf[i]\n",
      "\u001b[1;31mUnboundLocalError\u001b[0m: local variable 'j' referenced before assignment"
     ]
    }
   ],
   "source": [
    "def merge_sort(nums):\n",
    "    print('splitting', nums)\n",
    "    if len(nums) > 1:\n",
    "        mid = len(nums) // 2\n",
    "        lefthalf = nums[:mid]\n",
    "        righthalf = nums[mid:]\n",
    "        \n",
    "        \n",
    "        \n",
    "        merge_sort(lefthalf)\n",
    "        merge_sort(righthalf)\n",
    "        \n",
    "        i = 0 #left side\n",
    "        J = 0 # right side\n",
    "        k = 0 # main list\n",
    "        \n",
    "        while i < len(lefthalf) and j > len(righthalf):\n",
    "            if lefthalf[i] < righthalf[j]:\n",
    "                nums[k] = lefthalf[i]\n",
    "                i = i + 1\n",
    "            else:\n",
    "                nums[k] = righthalf[j]\n",
    "                j = j + 1\n",
    "            k = k + 1\n",
    "        \n",
    "        while i < len(lefthalf): #if left is not dont yet\n",
    "            nums[k] = lefthalf[i]\n",
    "            i = i + 1\n",
    "            k = k + 1\n",
    "        while j < len(righthalf): # if right is not done yet\n",
    "            nums[k] = righthalf[j]\n",
    "            j = j + 1\n",
    "            k = k + 1\n",
    "    print('merging', nums)\n",
    "nums = [1, 22, 6453, 33, 22, 44, 11, 53, 44, 4, 4, 3, 2, 1]\n",
    "merge_sort(nums) \n",
    "print(nums)"
   ]
  },
  {
   "cell_type": "markdown",
   "metadata": {},
   "source": [
    "# Binary Search\n",
    "\n",
    "The Binary Search algorithm works by finding the number in the middle of a given array and comparing it to the target. Given that the array is sorted\n",
    "\n",
    "* The worst case run time for this algorithm is `O(log(n))`"
   ]
  },
  {
   "cell_type": "code",
   "execution_count": null,
   "metadata": {},
   "outputs": [],
   "source": []
  },
  {
   "cell_type": "markdown",
   "metadata": {},
   "source": [
    "## Arrays"
   ]
  },
  {
   "cell_type": "markdown",
   "metadata": {},
   "source": [
    "In python we benefit from the dynamic array which means the block of memory will expand as needed for the given input to the array. In traditional arrays (depending on the type of operating system) we will usually store our inputs in 4 or 8 consecutive blocks of memory."
   ]
  },
  {
   "cell_type": "markdown",
   "metadata": {},
   "source": [
    "## Which in python looks like this:"
   ]
  },
  {
   "cell_type": "code",
   "execution_count": null,
   "metadata": {},
   "outputs": [],
   "source": []
  },
  {
   "cell_type": "markdown",
   "metadata": {},
   "source": [
    "### Let's take a look at some of the time and space analysis of arrays"
   ]
  },
  {
   "cell_type": "code",
   "execution_count": null,
   "metadata": {},
   "outputs": [],
   "source": [
    "# index an array (list)\n",
    "#constant time and constant space - O(1)\n",
    "\n",
    "# searching through a list\n",
    "# Linear Time O(n) and Constant Space O(1)\n",
    "\n",
    "# copying a list\n",
    "# linear time AND linear space\n",
    "\n",
    "\n",
    "# seeting an index in a list\n",
    "# constant time and constant space O(1)\n"
   ]
  },
  {
   "cell_type": "markdown",
   "metadata": {},
   "source": [
    "## Stacks and Queues\n",
    "\n",
    "** Stacks ** as the name suggests is a data structure that allows for data to follow the Last In First Out priciple(LIFO). Think of a stack of pancakes for example. To get the first pancake you would  start with the top and go down.\n",
    "\n",
    "##### Searching through a stack will be Linear Time O(n) - Constant Space O(1)\n",
    "##### Selecting the last item will be done in Constant Time O(1) - Constant Space O(1)\n",
    "##### Adding to the stack should take Constant Time O(1) - Constant Space O(1)\n",
    "\n",
    "** Queues ** are similar but in this case follow the First In First Out principle(FIFO). Think of this as a line in a black friday sale. The first person camped out for the big screen tv is the first to get it.\n",
    "\n",
    "##### Searching through a queue will be Linear Time O(n) - Constant Space O(1)\n",
    "##### Selecting the first item will be done in Constant Time O(1) - Constant Space O(1)\n",
    "##### Adding to the queue should take Constant Time O(1) - Constant Space O(1)"
   ]
  },
  {
   "cell_type": "code",
   "execution_count": null,
   "metadata": {},
   "outputs": [],
   "source": []
  },
  {
   "cell_type": "markdown",
   "metadata": {},
   "source": [
    "## Linked List (Data Structure)\n",
    "\n",
    "A linked list is created by using the node class. We create a Node object and create another class to use this node object. We pass the appropriate values thorugh the node object to point the to the next data elements.\n",
    "\n",
    "There are some advantages and disadvantages with this data structure. **Advantages** Linked Lists can save memory because they can be flexibile with memory management which saves memory. **Disadvantages** Finding or adding to the list requires traversing the entire list."
   ]
  },
  {
   "cell_type": "code",
   "execution_count": null,
   "metadata": {},
   "outputs": [],
   "source": []
  },
  {
   "cell_type": "code",
   "execution_count": null,
   "metadata": {},
   "outputs": [],
   "source": []
  },
  {
   "cell_type": "markdown",
   "metadata": {},
   "source": [
    "## Binary Search Tree"
   ]
  },
  {
   "cell_type": "code",
   "execution_count": null,
   "metadata": {},
   "outputs": [],
   "source": [
    "class BST():\n",
    "    def __init__(self,value):\n",
    "        self.value = value\n",
    "        self.right = none\n",
    "        self.left = none\n",
    "        \n",
    "    def insert(self):\n",
    "        if value < self.val:\n",
    "            if self.left is None:\n",
    "                self.left = BST(value)\n",
    "                \n",
    "            else:\n",
    "                # reask the question on the left side\n",
    "                self.left.insert(value)\n",
    "                self.right = BEST(value)\n",
    "                \n",
    "    def contains(self):\n",
    "        if value < self.valself.val\n",
    "        else\n",
    "            if self.left is None:\n",
    "                return False\n",
    "            else:\n",
    "                return self.left.contain(value)\n",
    "        \n",
    "    def get_min(self):\n",
    "        if self.left is None:\n",
    "            return self.val\n",
    "        else:\n",
    "            return self.left.get_min()\n",
    "        \n",
    "    def get_max(self):\n",
    "        if self.right is None:\n",
    "            return self.val\n",
    "        else: \n",
    "            return self.right.get_max()\n",
    "            \n",
    "    def remove(self):\n",
    "        if value < self.val:\n",
    "            if self.left in not None:\n",
    "                self.left.remove(value, self)\n",
    "        elif value > self.val:\n",
    "            if self.rignt is not None:\n",
    "                self.right.remove(value, self)\n",
    "        else:\n",
    "            if self.left is not None and self.right is not NOne:\n",
    "                self.val = self.right.get_max()\n",
    "                self.left.remove(self.val, self)\n",
    "        elif parent is None:\n",
    "            if self.left is not None:\n",
    "                self.val = self.left.val\n",
    "                self.left = self.left.left\n",
    "                self.right = self.left.right\n",
    "            elif self.right is not None:\n",
    "                "
   ]
  },
  {
   "cell_type": "markdown",
   "metadata": {},
   "source": [
    "# Exercises"
   ]
  },
  {
   "cell_type": "markdown",
   "metadata": {},
   "source": [
    "### Exercise #1 <br>\n",
    "<p>Reverse the list below in-place using an in-place algorithm.<br>For extra credit: Reverse the strings at the same time.</p>"
   ]
  },
  {
   "cell_type": "code",
   "execution_count": null,
   "metadata": {},
   "outputs": [],
   "source": [
    "words = ['this' , 'is', 'a', 'sentence', '.']\n"
   ]
  },
  {
   "cell_type": "markdown",
   "metadata": {},
   "source": [
    "### Exercise #2 <br>\n",
    "<p>Create a function that counts how many distinct words are in the string below, then outputs a dictionary with the words as the key and the value as the amount of times that word appears in the string.<br>Should output:<br>{'a': 5,<br>\n",
    " 'abstract': 1,<br>\n",
    " 'an': 3,<br>\n",
    " 'array': 2, ... etc...</p>"
   ]
  },
  {
   "cell_type": "code",
   "execution_count": null,
   "metadata": {},
   "outputs": [],
   "source": [
    "a_text = 'In computing, a hash table hash map is a data structure which implements an associative array abstract data type, a structure that can map keys to values. A hash table uses a hash function to compute an index into an array of buckets or slots from which the desired value can be found'\n",
    "\n"
   ]
  },
  {
   "cell_type": "markdown",
   "metadata": {},
   "source": [
    "## Exercise #3\n",
    "\n",
    "Write a program to implement a Linear Search Algorithm. Also in a comment, write the Time Complexity of the following algorithm.\n",
    "\n",
    "#### Hint: Linear Searching will require searching a list for a given number. "
   ]
  },
  {
   "cell_type": "code",
   "execution_count": null,
   "metadata": {},
   "outputs": [],
   "source": []
  }
 ],
 "metadata": {
  "kernelspec": {
   "display_name": "Python 3 (ipykernel)",
   "language": "python",
   "name": "python3"
  },
  "language_info": {
   "codemirror_mode": {
    "name": "ipython",
    "version": 3
   },
   "file_extension": ".py",
   "mimetype": "text/x-python",
   "name": "python",
   "nbconvert_exporter": "python",
   "pygments_lexer": "ipython3",
   "version": "3.10.9"
  }
 },
 "nbformat": 4,
 "nbformat_minor": 2
}
